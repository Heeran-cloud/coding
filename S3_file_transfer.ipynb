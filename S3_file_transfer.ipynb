{
  "nbformat": 4,
  "nbformat_minor": 0,
  "metadata": {
    "kernelspec": {
      "display_name": "Python 3",
      "language": "python",
      "name": "python3"
    },
    "language_info": {
      "codemirror_mode": {
        "name": "ipython",
        "version": 3
      },
      "file_extension": ".py",
      "mimetype": "text/x-python",
      "name": "python",
      "nbconvert_exporter": "python",
      "pygments_lexer": "ipython3",
      "version": "3.8.5"
    },
    "colab": {
      "name": "S3_file_transfer.ipynb",
      "provenance": [],
      "collapsed_sections": []
    }
  },
  "cells": [
    {
      "cell_type": "markdown",
      "metadata": {
        "id": "KZJFA0gq83pe"
      },
      "source": [
        "AWS S3_file_transfer"
      ]
    },
    {
      "cell_type": "code",
      "metadata": {
        "id": "ECpXbsOC8IjD",
        "outputId": "ca5bd271-a7c0-4176-eed8-e8e9a5bbe24e"
      },
      "source": [
        "boto3.__version__"
      ],
      "execution_count": null,
      "outputs": [
        {
          "output_type": "execute_result",
          "data": {
            "text/plain": [
              "'1.17.32'"
            ]
          },
          "metadata": {
            "tags": []
          },
          "execution_count": 5
        }
      ]
    },
    {
      "cell_type": "code",
      "metadata": {
        "id": "Qn_Lhq3A8Ijp"
      },
      "source": [
        "import boto3\n",
        "\n",
        "ACCESS_KEY = 'INSERT ACCESS_KEY'\n",
        "SECRET_KEY = 'INSERT SECRET_KEY'\n",
        "REGION = 'ap-northeast-2'\n",
        "\n",
        "s3 = boto3.client(\n",
        "    's3',\n",
        "    aws_access_key_id=ACCESS_KEY,\n",
        "    aws_secret_access_key=SECRET_KEY,\n",
        "    region_name=REGION\n",
        ")"
      ],
      "execution_count": null,
      "outputs": []
    },
    {
      "cell_type": "code",
      "metadata": {
        "id": "0wAYwzea8Ijx"
      },
      "source": [
        "BUCKET_NAME = 'INSERT BUCKET_NAME'\n",
        "BUCKET_FILE_NAME = 'INSERT FILE NAME ALONG WITH PATH'\n",
        "LOCAL_FILE_NAME = 'INSERT FILE NAME ALONG WITH PATH'"
      ],
      "execution_count": null,
      "outputs": []
    },
    {
      "cell_type": "markdown",
      "metadata": {
        "id": "ab1e1xdg8Ijz"
      },
      "source": [
        "download file"
      ]
    },
    {
      "cell_type": "code",
      "metadata": {
        "id": "fSL9blap8Ij0"
      },
      "source": [
        "def download_s3_file():\n",
        "    s3.download_file(BUCKET_NAME, BUCKET_FILE_NAME, LOCAL_FILE_NAME)"
      ],
      "execution_count": null,
      "outputs": []
    },
    {
      "cell_type": "code",
      "metadata": {
        "id": "8uPuR_Il8Ij2"
      },
      "source": [
        "download_s3_file()"
      ],
      "execution_count": null,
      "outputs": []
    },
    {
      "cell_type": "markdown",
      "metadata": {
        "id": "lI4TF3gz8Ij3"
      },
      "source": [
        "upload file"
      ]
    },
    {
      "cell_type": "code",
      "metadata": {
        "id": "gB1Oe_V78Ij5"
      },
      "source": [
        "def upload_file(local, path):\n",
        "    s3.upload_file(local, \n",
        "                   BUCKET_NAME, \n",
        "                   path)"
      ],
      "execution_count": null,
      "outputs": []
    },
    {
      "cell_type": "code",
      "metadata": {
        "id": "57wB53qY8Ij_"
      },
      "source": [
        "class FilePath:\n",
        "    def __init__(self):\n",
        "        self.path = 'INSERT PATH'\n",
        "        self.local = ''\n",
        "        \n",
        "    def add(self, name):\n",
        "        self.path += name\n",
        "        self.local = name[5:]\n",
        "        return self.path\n",
        "        return self.local"
      ],
      "execution_count": null,
      "outputs": []
    },
    {
      "cell_type": "code",
      "metadata": {
        "id": "K81rxkj38IkC"
      },
      "source": [
        "# pred_pytorch file uploading\n",
        "pred_torch = FilePath()\n",
        "f_name = 'INSERT FILE NAME ALONG WITH PATH'\n",
        "pred_torch.add(f_name)\n",
        "# print(pred_torch.path)\n",
        "# print(pred_torch.local)\n",
        "upload_file(pred_torch.local, pred_torch.path)"
      ],
      "execution_count": null,
      "outputs": []
    },
    {
      "cell_type": "code",
      "metadata": {
        "id": "NVSHyOZW8IkE"
      },
      "source": [
        "# pred_lgbm file uploading\n",
        "pred_lgbm = FilePath()\n",
        "f_name = 'INSERT FILE NAME ALONG WITH PATH'\n",
        "pred_lgbm.add(f_name)\n",
        "# print(pred_lgbm.path)\n",
        "# print(pred_lgbm.local)\n",
        "upload_file(pred_lgbm.local, pred_lgbm.path)"
      ],
      "execution_count": null,
      "outputs": []
    },
    {
      "cell_type": "code",
      "metadata": {
        "id": "drN9j_gX8IkF"
      },
      "source": [
        "class FilePath:\n",
        "    def __init__(self):\n",
        "        self.path = 'INSERT PATH'\n",
        "        self.local = ''\n",
        "        \n",
        "    def add(self, name):\n",
        "        self.path += name\n",
        "        self.local = name[6:]\n",
        "        return self.path\n",
        "        return self.local"
      ],
      "execution_count": null,
      "outputs": []
    },
    {
      "cell_type": "code",
      "metadata": {
        "id": "RCsVqE2p8IkG"
      },
      "source": [
        "# model_lgbm uploading\n",
        "model_lgbm = FilePath()\n",
        "f_name = 'INSERT FILE NAME ALONG WITH PATH'\n",
        "model_lgbm.add(f_name)\n",
        "# print(model_lgbm.path)\n",
        "# print(model_lgbm.local)\n",
        "upload_file(model_lgbm.local, model_lgbm.path)"
      ],
      "execution_count": null,
      "outputs": []
    },
    {
      "cell_type": "code",
      "metadata": {
        "id": "cfhDL-_L8IkI"
      },
      "source": [
        "# model_pytorch uploading\n",
        "model_pytorch = FilePath()\n",
        "f_name = 'INSERT FILE NAME ALONG WITH PATH'\n",
        "model_pytorch.add(f_name)\n",
        "# print(model_pytorch.path)\n",
        "# print(model_pytorch.local)\n",
        "upload_file(model_pytorch.local, model_pytorch.path)"
      ],
      "execution_count": null,
      "outputs": []
    }
  ]
}