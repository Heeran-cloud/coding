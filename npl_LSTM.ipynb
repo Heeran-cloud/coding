{
  "nbformat": 4,
  "nbformat_minor": 0,
  "metadata": {
    "colab": {
      "name": "npl_LSTM.ipynb",
      "provenance": [],
      "collapsed_sections": [],
      "machine_shape": "hm"
    },
    "kernelspec": {
      "name": "python3",
      "display_name": "Python 3"
    },
    "accelerator": "GPU"
  },
  "cells": [
    {
      "cell_type": "markdown",
      "metadata": {
        "id": "7e3RgF5eqe6R"
      },
      "source": [
        "https://justkode.kr/deep-learning/pytorch-rnn\n"
      ]
    },
    {
      "cell_type": "code",
      "metadata": {
        "id": "Q64yX9PvXUTv",
        "colab": {
          "base_uri": "https://localhost:8080/"
        },
        "outputId": "50f950ae-602e-4802-b709-d8010884899a"
      },
      "source": [
        "from google.colab import drive\n",
        "drive.mount('/content/gdrive')"
      ],
      "execution_count": null,
      "outputs": [
        {
          "output_type": "stream",
          "text": [
            "Mounted at /content/gdrive\n"
          ],
          "name": "stdout"
        }
      ]
    },
    {
      "cell_type": "code",
      "metadata": {
        "id": "sA4NlQ5Y8D1t",
        "colab": {
          "base_uri": "https://localhost:8080/"
        },
        "outputId": "034eb9b3-8625-4192-c679-8a914f07bdbb"
      },
      "source": [
        "!tar xzvf /content/gdrive/MyDrive/darknet/cudnn/cudnn-10.1-linux-x64-v8.0.4.30.tgz -C /usr/local/"
      ],
      "execution_count": null,
      "outputs": [
        {
          "output_type": "stream",
          "text": [
            "cuda/include/cudnn.h\n",
            "cuda/include/cudnn_adv_infer.h\n",
            "cuda/include/cudnn_adv_train.h\n",
            "cuda/include/cudnn_backend.h\n",
            "cuda/include/cudnn_cnn_infer.h\n",
            "cuda/include/cudnn_cnn_train.h\n",
            "cuda/include/cudnn_ops_infer.h\n",
            "cuda/include/cudnn_ops_train.h\n",
            "cuda/include/cudnn_version.h\n",
            "cuda/NVIDIA_SLA_cuDNN_Support.txt\n",
            "cuda/lib64/libcudnn.so\n",
            "cuda/lib64/libcudnn.so.8\n",
            "cuda/lib64/libcudnn.so.8.0.4\n",
            "cuda/lib64/libcudnn_adv_infer.so\n",
            "cuda/lib64/libcudnn_adv_infer.so.8\n",
            "cuda/lib64/libcudnn_adv_infer.so.8.0.4\n",
            "cuda/lib64/libcudnn_adv_train.so\n",
            "cuda/lib64/libcudnn_adv_train.so.8\n",
            "cuda/lib64/libcudnn_adv_train.so.8.0.4\n",
            "cuda/lib64/libcudnn_cnn_infer.so\n",
            "cuda/lib64/libcudnn_cnn_infer.so.8\n",
            "cuda/lib64/libcudnn_cnn_infer.so.8.0.4\n",
            "cuda/lib64/libcudnn_cnn_train.so\n",
            "cuda/lib64/libcudnn_cnn_train.so.8\n",
            "cuda/lib64/libcudnn_cnn_train.so.8.0.4\n",
            "cuda/lib64/libcudnn_ops_infer.so\n",
            "cuda/lib64/libcudnn_ops_infer.so.8\n",
            "cuda/lib64/libcudnn_ops_infer.so.8.0.4\n",
            "cuda/lib64/libcudnn_ops_train.so\n",
            "cuda/lib64/libcudnn_ops_train.so.8\n",
            "cuda/lib64/libcudnn_ops_train.so.8.0.4\n",
            "cuda/lib64/libcudnn_static.a\n",
            "cuda/lib64/libcudnn_static.a\n"
          ],
          "name": "stdout"
        }
      ]
    },
    {
      "cell_type": "code",
      "metadata": {
        "id": "OchabtwF8EYE",
        "colab": {
          "base_uri": "https://localhost:8080/"
        },
        "outputId": "290f2ae6-ba0c-44dc-8dca-48468c31edcf"
      },
      "source": [
        "!cat /usr/local/cuda/include/cudnn_version.h | grep CUDNN_MAJOR -A 2"
      ],
      "execution_count": null,
      "outputs": [
        {
          "output_type": "stream",
          "text": [
            "#define CUDNN_MAJOR 8\n",
            "#define CUDNN_MINOR 0\n",
            "#define CUDNN_PATCHLEVEL 4\n",
            "--\n",
            "#define CUDNN_VERSION (CUDNN_MAJOR * 1000 + CUDNN_MINOR * 100 + CUDNN_PATCHLEVEL)\n",
            "\n",
            "#endif /* CUDNN_VERSION_H */\n"
          ],
          "name": "stdout"
        }
      ]
    },
    {
      "cell_type": "code",
      "metadata": {
        "id": "7rv-EJvPp6fQ"
      },
      "source": [
        "import numpy as np\n",
        "import torch\n",
        "import torch.nn as nn\n",
        "import torch.optim as optim"
      ],
      "execution_count": null,
      "outputs": []
    },
    {
      "cell_type": "code",
      "metadata": {
        "id": "bvo2GYb7p66V"
      },
      "source": [
        "sentences = ['i like dog', 'i love coffee', 'i hate milk', 'you like cat',\\\n",
        "             'you love milk', 'you hate coffee']\n",
        "dtype = torch.float\n",
        "\n",
        "\"\"\"\n",
        "Word Processing\n",
        "\"\"\"\n",
        "\n",
        "word_list = list(set(' '.join(sentences).split()))\n",
        "word_dict = {w: i for i,w in enumerate(word_list)}\n",
        "number_dict = {i: w for i,w in enumerate(word_list)}\n",
        "n_class = len(word_dict)"
      ],
      "execution_count": null,
      "outputs": []
    },
    {
      "cell_type": "code",
      "metadata": {
        "id": "1euP2fBWp8Nu"
      },
      "source": [
        "\"\"\"\n",
        "TextRNN Parameter\n",
        "\"\"\"\n",
        "batch_size = len(sentences)\n",
        "n_step = 2 # 학습하려고 하는 문장의 길이\n",
        "n_hidden = 5 # 은닉층 사이즈\n",
        "\n",
        "def make_batch(sentences):\n",
        "    input_batch = []\n",
        "    target_batch = []\n",
        "    \n",
        "    for sen in sentences:\n",
        "        word = sen.split()\n",
        "        input = [word_dict[n] for n in word[:-1]]\n",
        "        target = word_dict[word[-1]]\n",
        "        \n",
        "        input_batch.append(np.eye(n_class)[input])\n",
        "        target_batch.append(target)\n",
        "    \n",
        "    return input_batch, target_batch\n",
        "\n",
        "input_batch, target_batch = make_batch(sentences)\n",
        "input_batch = torch.tensor(input_batch, dtype=torch.float32, requires_grad=True)\n",
        "target_batch = torch.tensor(target_batch, dtype=torch.int64)\n",
        "\n",
        "\"\"\"\n",
        "TextLSTM\n",
        "\"\"\"\n",
        "class TextLSTM(nn.Module):\n",
        "    def __init__(self):\n",
        "        super(TextLSTM, self).__init__()\n",
        "        \n",
        "        self.lstm = nn.LSTM(input_size=n_class, hidden_size=n_hidden, dropout=0.3)\n",
        "        self.W = nn.Parameter(torch.randn([n_hidden, n_class]).type(dtype))\n",
        "        self.b = nn.Parameter(torch.randn([n_class]).type(dtype))\n",
        "        self.Softmax = nn.Softmax(dim=1)\n",
        "        \n",
        "    def forward(self, hidden_and_cell, X):\n",
        "        X = X.transpose(0, 1)\n",
        "        outputs, hidden = self.lstm(X, hidden_and_cell)\n",
        "        outputs = outputs[-1] # 최종 예측 hidden layer \n",
        "        model = torch.mm(outputs, self.W) + self.b # 최종 예측 최종 출력 층\n",
        "        return model\n",
        "    \n",
        "\n",
        "\n"
      ],
      "execution_count": null,
      "outputs": []
    },
    {
      "cell_type": "code",
      "metadata": {
        "colab": {
          "base_uri": "https://localhost:8080/"
        },
        "id": "7IM4eUlIp9xO",
        "outputId": "94622733-196c-47e3-a9ed-c43eca09a35a"
      },
      "source": [
        "\"\"\"\n",
        "Training\n",
        "\"\"\"\n",
        "model = TextLSTM()\n",
        "criterion = nn.CrossEntropyLoss()\n",
        "optimizer = optim.Adam(model.parameters(), lr=0.01)\n",
        "\n",
        "for epoch in range(500):\n",
        "    hidden = torch.zeros(1, batch_size, n_hidden, requires_grad=True)\n",
        "    cell = torch.zeros(1, batch_size, n_hidden, requires_grad=True)\n",
        "    output = model((hidden, cell), input_batch)\n",
        "    loss = criterion(output, target_batch)\n",
        "    if (epoch + 1) % 100 == 0:\n",
        "        print('Epoch:', \"%04d\" % (epoch + 1), 'cost =', '{:.6f}'.format(loss))\n",
        "        \n",
        "    optimizer.zero_grad()\n",
        "    loss.backward()\n",
        "    optimizer.step()\n",
        "    \n",
        "input = [sen.split()[:2] for sen in sentences]\n",
        "hidden = torch.zeros(1, batch_size, n_hidden, requires_grad=True)\n",
        "cell = torch.zeros(1, batch_size, n_hidden, requires_grad=True)\n",
        "predict = model((hidden, cell), input_batch).data.max(1, keepdim=True)[1]\n",
        "print([sen.split()[:2] for sen in sentences], '->',\\\n",
        "      [number_dict[n.item()] for n in predict.squeeze()])"
      ],
      "execution_count": null,
      "outputs": [
        {
          "output_type": "stream",
          "text": [
            "/usr/local/lib/python3.7/dist-packages/torch/nn/modules/rnn.py:63: UserWarning: dropout option adds dropout after all but last recurrent layer, so non-zero dropout expects num_layers greater than 1, but got dropout=0.3 and num_layers=1\n",
            "  \"num_layers={}\".format(dropout, num_layers))\n"
          ],
          "name": "stderr"
        },
        {
          "output_type": "stream",
          "text": [
            "Epoch: 0100 cost = 0.117351\n",
            "Epoch: 0200 cost = 0.018957\n",
            "Epoch: 0300 cost = 0.009058\n",
            "Epoch: 0400 cost = 0.005602\n",
            "Epoch: 0500 cost = 0.003888\n",
            "[['i', 'like'], ['i', 'love'], ['i', 'hate'], ['you', 'like'], ['you', 'love'], ['you', 'hate']] -> ['dog', 'coffee', 'milk', 'cat', 'milk', 'coffee']\n"
          ],
          "name": "stdout"
        }
      ]
    }
  ]
}