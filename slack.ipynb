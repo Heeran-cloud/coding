{
  "nbformat": 4,
  "nbformat_minor": 0,
  "metadata": {
    "language_info": {
      "codemirror_mode": {
        "name": "ipython",
        "version": 3
      },
      "file_extension": ".py",
      "mimetype": "text/x-python",
      "name": "python",
      "nbconvert_exporter": "python",
      "pygments_lexer": "ipython3",
      "version": "3.8.5-final"
    },
    "orig_nbformat": 2,
    "kernelspec": {
      "name": "python385jvsc74a57bd097310fbd864964ad641579bcebecb969a7d43951fb4080f6f71d8e235e83be3f",
      "display_name": "Python 3.8.5 64-bit ('base': conda)"
    },
    "colab": {
      "name": "slack_scheduling_message.ipynb",
      "provenance": [],
      "collapsed_sections": []
    }
  },
  "cells": [
    {
      "cell_type": "markdown",
      "metadata": {
        "id": "GfdLONhOZgxS"
      },
      "source": [
        "[Each Slack app starts off without permission to do very much at all. You will have to grant your app the correct scopes that are required in order for you to publish messages.](https://api.slack.com/messaging/sending)\n"
      ]
    },
    {
      "cell_type": "code",
      "metadata": {
        "id": "qu-3gKqyZgyf"
      },
      "source": [
        "import requests\n",
        "import json"
      ],
      "execution_count": null,
      "outputs": []
    },
    {
      "cell_type": "code",
      "metadata": {
        "id": "0k6C1GBtZgyo"
      },
      "source": [
        "URL =  'https://slack.com/api/chat.scheduleMessage'\n",
        "token = [\"insert your token no\"]"
      ],
      "execution_count": null,
      "outputs": []
    },
    {
      "cell_type": "code",
      "metadata": {
        "id": "TYp8k9pFZgyr"
      },
      "source": [
        "# meeting announcement\n",
        "payload = {\n",
        "    \"token\" : token,\n",
        "    \"channel\" : [\"insert your channel name\"], # e.g. #전체공지\n",
        "    \"post_at\" : ['insert unix timestamps to set'], # https://www.unixtimestamp.com/index.php\n",
        "    \"text\" : \" We're going to set the meeting at 10AM.\",\n",
        "}\n",
        "response = requests.post(\n",
        "    URL,\n",
        "    payload).json()\n",
        "response"
      ],
      "execution_count": null,
      "outputs": []
    }
  ]
}